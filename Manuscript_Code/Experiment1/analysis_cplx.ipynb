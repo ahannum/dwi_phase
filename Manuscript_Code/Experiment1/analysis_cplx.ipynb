{
 "cells": [
  {
   "cell_type": "code",
   "execution_count": 2,
   "metadata": {},
   "outputs": [
    {
     "name": "stderr",
     "output_type": "stream",
     "text": [
      "/Users/arielhannum/opt/anaconda3/lib/python3.8/site-packages/dicom/__init__.py:53: UserWarning: \n",
      "This code is using an older version of pydicom, which is no longer \n",
      "maintained as of Jan 2017.  You can access the new pydicom features and API \n",
      "by installing `pydicom` from PyPI.\n",
      "See 'Transitioning to pydicom 1.x' section at pydicom.readthedocs.org \n",
      "for more information.\n",
      "\n",
      "  warnings.warn(msg)\n"
     ]
    }
   ],
   "source": [
    "from matplotlib import pyplot as plt\n",
    "import numpy as np\n",
    "from skimage.data import shepp_logan_phantom\n",
    "from skimage.transform import rescale, resize, downscale_local_mean\n",
    "import math\n",
    "import os\n",
    "import numpy as np\n",
    "\n",
    "import seaborn as sns\n",
    "from cmcrameri import cm\n",
    "\n",
    "from dipy.segment.mask import median_otsu\n",
    "from dipy.io.image import load_nifti, save_nifti\n",
    "from dipy.io.gradients import read_bvals_bvecs\n",
    "import numpy as np\n",
    "import nrrd\n",
    "import pingouin as pg\n",
    "import scikit_posthocs as sp\n",
    "\n",
    "import sys\n",
    "sys.path.append(\"../\")\n",
    "from DataSorting import *\n",
    "from Averaging import *\n",
    "from DWI import *\n",
    "import numpy as np\n",
    "import matplotlib.pyplot as plt"
   ]
  },
  {
   "cell_type": "code",
   "execution_count": 3,
   "metadata": {},
   "outputs": [],
   "source": [
    "# helper function for image edge outline \n",
    "from PIL import Image, ImageFilter\n",
    "def get_edge(img):\n",
    "    #define the vertical filter\n",
    "    vertical_filter = [[-1,-2,-1], [0,0,0], [1,2,1]]\n",
    "\n",
    "    #define the horizontal filter\n",
    "    horizontal_filter = [[-1,0,1], [-2,0,2], [-1,0,1]]\n",
    "\n",
    "    #get the dimensions of the image\n",
    "    n,m = img.shape\n",
    "\n",
    "    #initialize the edges image\n",
    "    edges_img = img.copy()\n",
    "\n",
    "    #loop over all pixels in the image\n",
    "    for row in range(3, n-2):\n",
    "        for col in range(3, m-2):\n",
    "\n",
    "            #create little local 3x3 box\n",
    "            local_pixels = img[row-1:row+2, col-1:col+2]\n",
    "\n",
    "            #apply the vertical filter\n",
    "            vertical_transformed_pixels = vertical_filter*local_pixels\n",
    "            #remap the vertical score\n",
    "            vertical_score = vertical_transformed_pixels.sum()/4\n",
    "\n",
    "            #apply the horizontal filter\n",
    "            horizontal_transformed_pixels = horizontal_filter*local_pixels\n",
    "            #remap the horizontal score\n",
    "            horizontal_score = horizontal_transformed_pixels.sum()/4\n",
    "\n",
    "            #combine the horizontal and vertical scores into a total edge score\n",
    "            edge_score = (vertical_score**2 + horizontal_score**2)**.5\n",
    "\n",
    "            #insert this edge score into the edges image\n",
    "            edges_img[row, col] = edge_score*2\n",
    "\n",
    "    #remap the values in the 0-1 range in case they went out of bounds\n",
    "    edges_img = edges_img/edges_img.max()\n",
    "    edges_img[edges_img ==0] = 'nan'\n",
    "    edges_img[edges_img >0] = 1\n",
    "    return edges_img"
   ]
  },
  {
   "cell_type": "code",
   "execution_count": 4,
   "metadata": {},
   "outputs": [],
   "source": [
    "# Pick volunteer, vv=0 0 was used to make the figure in the manuscript, this corresponds to volunteer 1 \n",
    "vv = 1"
   ]
  },
  {
   "cell_type": "code",
   "execution_count": 5,
   "metadata": {},
   "outputs": [
    {
     "name": "stdout",
     "output_type": "stream",
     "text": [
      "2 "
     ]
    },
    {
     "name": "stderr",
     "output_type": "stream",
     "text": [
      "/Users/arielhannum/opt/anaconda3/lib/python3.8/site-packages/outdated/utils.py:14: OutdatedPackageWarning: The package pingouin is out of date. Your version is 0.5.3, the latest is 0.5.4.\n",
      "Set the environment variable OUTDATED_IGNORE=1 to disable these warnings.\n",
      "  return warn(\n"
     ]
    }
   ],
   "source": [
    "volunteers=[1,2,3,4,5,7,8,9,10,11]\n",
    "\n",
    "\n",
    "# For each volunteer \n",
    "M0_mag = np.zeros((128,128,6,4,5,8))\n",
    "M1_mag = np.zeros((128,128,6,4,5,8))\n",
    "M2_mag = np.zeros((128,128,6,4,5,8))\n",
    "\n",
    "M0_phs = np.zeros((128,128,6,4,5,8))\n",
    "M1_phs = np.zeros((128,128,6,4,5,8))\n",
    "M2_phs = np.zeros((128,128,6,4,5,8))\n",
    "\n",
    "\n",
    "volunteer = str(volunteers[vv])\n",
    "print(volunteer, end = ' ')\n",
    "inpath = '/Users/arielhannum/Documents/Stanford/CMR-Setsompop/Projects/Phase/Data/Brain/V00' + volunteer + '/3_DWI/'\n",
    "name = inpath.split('/')\n",
    "namejoin = '/'.join(name[:-1])\n",
    "\n",
    "num = 0\n",
    "for num in range(3):\n",
    "    nii_files   = [_ for _ in os.listdir(inpath) if _.endswith('registered.nii')]\n",
    "    bval_files   = [_ for _ in os.listdir(inpath) if _.endswith('registered.bvals')]\n",
    "    bvec_files   = [_ for _ in os.listdir(inpath) if _.endswith('registered.bvecs')]\n",
    "    mask_files   = [_ for _ in os.listdir(inpath) if _.endswith('new.nrrd')]\n",
    "    \n",
    "\n",
    "    nii_files.sort()\n",
    "    bval_files.sort()\n",
    "    bvec_files.sort()\n",
    "    mask_files.sort()\n",
    "    \n",
    "    data,affine, voxsize = load_nifti(os.path.join(inpath, nii_files[num]), return_voxsize=True)\n",
    "    bvals = np.loadtxt(os.path.join(inpath,bval_files[num])) \n",
    "    bvecs = np.loadtxt(os.path.join(inpath,bvec_files[num]))\n",
    "    mask,header =  nrrd.read(os.path.join(inpath, mask_files[num]))\n",
    "    \n",
    "    mask = mask.astype('float')\n",
    "    mask[mask==0] = np.nan\n",
    "    \n",
    "    \n",
    "    data1,bvals_sort,bvecs_sort = stacked2sorted(data,bvals,bvecs.T)\n",
    "    \n",
    "    ims = np.stack((data1[:,:,:,:,:5],data1[:,:,:,:,5:10],data1[:,:,:,:,10:15],\n",
    "                        data1[:,:,:,:,15:20],data1[:,:,:,:,20:25],data1[:,:,:,:,25:30],\n",
    "                        data1[:,:,:,:,30:35],data1[:,:,:,:,35:40]),axis = -1)  \n",
    "        \n",
    "    \n",
    "    mag = abs(ims)\n",
    "    phs = np.angle(ims)\n",
    "    mask_rep = np.tile(mask[:,:,:,np.newaxis,np.newaxis,np.newaxis],(1,1,1,ims.shape[3],ims.shape[4],ims.shape[5]))\n",
    "    mask_rep[mask_rep ==0] = np.nan\n",
    "    \n",
    "    if num == 0:\n",
    "        M0_mag[:,:,:,:,:,:] = mag #* mask_rep\n",
    "        M0_phs[:,:,:,:,:,:,] = phs #*mask_rep\n",
    "        M0_mask = mask_rep #*mask_rep\n",
    "        \n",
    "    if num == 1:\n",
    "        M1_mag[:,:,:,:,:,:,] = mag #* mask_rep\n",
    "        M1_phs[:,:,:,:,:,:] = phs #*mask_rep\n",
    "        M1_mask = mask_rep #*mask_rep\n",
    "        \n",
    "    if num == 2:\n",
    "        M2_mag[:,:,:,:,:,:] = mag #* mask_rep\n",
    "        M2_phs[:,:,:,:,:,:] = phs #*mask_rep\n",
    "        M2_mask = mask_rep #*mask_rep\n",
    "\n",
    "# One data structure of complex dataset \n",
    "im_M0 = M0_mag * np.exp(1j*M0_phs)\n",
    "im_M1 = M1_mag * np.exp(1j*M1_phs)\n",
    "im_M2 = M2_mag * np.exp(1j*M2_phs)"
   ]
  },
  {
   "cell_type": "code",
   "execution_count": 6,
   "metadata": {},
   "outputs": [
    {
     "name": "stderr",
     "output_type": "stream",
     "text": [
      "../DWI.py:45: RuntimeWarning: divide by zero encountered in log\n",
      "  D_xx                             = -(1 / b) * np.log(S_x / S_0)                                                             # Calculate x diffusion coefficient\n",
      "../DWI.py:45: RuntimeWarning: invalid value encountered in log\n",
      "  D_xx                             = -(1 / b) * np.log(S_x / S_0)                                                             # Calculate x diffusion coefficient\n",
      "../DWI.py:46: RuntimeWarning: divide by zero encountered in log\n",
      "  D_yy                             = -(1 / b) * np.log(S_y / S_0)                                                             # Calculate y diffusion coefficient\n",
      "../DWI.py:46: RuntimeWarning: invalid value encountered in log\n",
      "  D_yy                             = -(1 / b) * np.log(S_y / S_0)                                                             # Calculate y diffusion coefficient\n",
      "../DWI.py:47: RuntimeWarning: divide by zero encountered in log\n",
      "  D_zz                             = -(1 / b) * np.log(S_z / S_0)                                                             # Calculate z diffusion coefficient\n",
      "../DWI.py:47: RuntimeWarning: invalid value encountered in log\n",
      "  D_zz                             = -(1 / b) * np.log(S_z / S_0)                                                             # Calculate z diffusion coefficient\n",
      "../DWI.py:45: RuntimeWarning: divide by zero encountered in divide\n",
      "  D_xx                             = -(1 / b) * np.log(S_x / S_0)                                                             # Calculate x diffusion coefficient\n",
      "../DWI.py:45: RuntimeWarning: invalid value encountered in divide\n",
      "  D_xx                             = -(1 / b) * np.log(S_x / S_0)                                                             # Calculate x diffusion coefficient\n",
      "../DWI.py:46: RuntimeWarning: divide by zero encountered in divide\n",
      "  D_yy                             = -(1 / b) * np.log(S_y / S_0)                                                             # Calculate y diffusion coefficient\n",
      "../DWI.py:46: RuntimeWarning: invalid value encountered in divide\n",
      "  D_yy                             = -(1 / b) * np.log(S_y / S_0)                                                             # Calculate y diffusion coefficient\n",
      "../DWI.py:47: RuntimeWarning: divide by zero encountered in divide\n",
      "  D_zz                             = -(1 / b) * np.log(S_z / S_0)                                                             # Calculate z diffusion coefficient\n",
      "../DWI.py:47: RuntimeWarning: invalid value encountered in divide\n",
      "  D_zz                             = -(1 / b) * np.log(S_z / S_0)                                                             # Calculate z diffusion coefficient\n"
     ]
    }
   ],
   "source": [
    "averaged_M0 = np.zeros((128,128,6,4,8),dtype = 'complex128')\n",
    "averaged_M1 = np.zeros((128,128,6,4,8),dtype = 'complex128')\n",
    "averaged_M2 = np.zeros((128,128,6,4,8),dtype = 'complex128')\n",
    "\n",
    "adc_M0 = np.zeros((128,128,6,8))\n",
    "adc_M1 = np.zeros((128,128,6,8))\n",
    "adc_M2 = np.zeros((128,128,6,8))\n",
    "\n",
    "\n",
    "for ii in range(8):\n",
    "    [avg,_,_ ]= average(im_M0[:,:,:,:,:,ii],[],[],operation_type='Complex')\n",
    "    averaged_M0[:,:,:,:,ii] = np.squeeze(avg)\n",
    "    adc = DWI_recon(np.real(avg),bvals_sort,bvecs_sort)\n",
    "    adc_M0[:,:,:,ii] = adc[0]['ADC']\n",
    "\n",
    "    [avg,_,_ ]= average(im_M1[:,:,:,:,:,ii],[],[],operation_type='Complex')\n",
    "    averaged_M1[:,:,:,:,ii] = np.squeeze(avg)\n",
    "\n",
    "    adc = DWI_recon(np.real(avg),bvals_sort,bvecs_sort)\n",
    "    adc_M1[:,:,:,ii] = adc[0]['ADC']\n",
    "\n",
    "    [avg,_,_ ]= average(im_M2[:,:,:,:,:,ii],[],[],operation_type='Complex')\n",
    "    averaged_M2[:,:,:,:,ii] = np.squeeze(avg)\n",
    "\n",
    "    adc = DWI_recon(np.real(avg),bvals_sort,bvecs_sort)\n",
    "    adc_M2[:,:,:,ii] = adc[0]['ADC']\n"
   ]
  },
  {
   "cell_type": "code",
   "execution_count": 13,
   "metadata": {},
   "outputs": [
    {
     "data": {
      "image/png": "[encoded data removed]",
      "text/plain": [
       "<Figure size 1080x360 with 3 Axes>"
      ]
     },
     "metadata": {
      "needs_background": "light"
     },
     "output_type": "display_data"
    }
   ],
   "source": [
    "td = 5\n",
    "sl = 1\n",
    "diff = 3\n",
    "\n",
    "\n",
    "fig, axes = plt.subplots(1, 3, figsize=(15, 5))\n",
    "\n",
    "for ii in range(3):\n",
    "    axes[ii].imshow(np.zeros((128,128)),cmap = 'gray',vmax = 500,vmin = 0)\n",
    "    axes[ii].axis('off')\n",
    "\n",
    "\n",
    "axes[0].imshow(np.real(averaged_M0)[:,:,sl,diff,td]*M0_mask[:,:,sl,diff,0,td],vmin = 0,vmax = 500,cmap = 'gray',interpolation = 'nearest')\n",
    "axes[1].imshow(np.real(averaged_M1)[:,:,sl,diff,td]*M1_mask[:,:,sl,diff,0,td],vmin = 0,vmax = 500,cmap = 'gray',interpolation = 'nearest')\n",
    "axes[2].imshow(np.real(averaged_M2)[:,:,sl,diff,td]*M2_mask[:,:,sl,diff,0,td],vmin = 0,vmax = 500,cmap = 'gray',interpolation = 'nearest')\n",
    "\n",
    "plt.tight_layout()"
   ]
  },
  {
   "cell_type": "code",
   "execution_count": 17,
   "metadata": {},
   "outputs": [
    {
     "data": {
      "image/png": "[encoded data removed]",
      "text/plain": [
       "<Figure size 1080x360 with 3 Axes>"
      ]
     },
     "metadata": {
      "needs_background": "light"
     },
     "output_type": "display_data"
    }
   ],
   "source": [
    "td = 1\n",
    "sl = 3\n",
    "diff = 3\n",
    "\n",
    "fig, axes = plt.subplots(1, 3, figsize=(15, 5))\n",
    "\n",
    "for ii in range(3):\n",
    "    axes[ii].imshow(np.zeros((128,128)),cmap = 'gray',vmax = 500,vmin = 0)\n",
    "    axes[ii].axis('off')\n",
    "\n",
    "\n",
    "axes[0].imshow(np.real(adc_M0)[:,:,sl,td]*M0_mask[:,:,sl,diff,0,td],vmin = 0,vmax = 3,cmap = 'gray',interpolation = 'nearest')\n",
    "axes[1].imshow(np.real(adc_M1)[:,:,sl,td]*M1_mask[:,:,sl,diff,0,td],vmin = 0,vmax = 3,cmap = 'gray',interpolation = 'nearest')\n",
    "axes[2].imshow(np.real(adc_M2)[:,:,sl,td]*M2_mask[:,:,sl,diff,0,td],vmin = 0,vmax = 3,cmap = 'gray',interpolation = 'nearest')\n",
    "\n",
    "plt.tight_layout()"
   ]
  },
  {
   "cell_type": "code",
   "execution_count": null,
   "metadata": {},
   "outputs": [],
   "source": [
    "# whole brain histogram, regress plot magnitude vs. complex averaging for the given sample , pixel pool all volunteers for single slice see agreement between magnitude and complex averaging also could do bland altman about the bias difference between 2 approaches "
   ]
  }
 ],
 "metadata": {
  "kernelspec": {
   "display_name": "Python 3.8.8 ('base')",
   "language": "python",
   "name": "python3"
  },
  "language_info": {
   "codemirror_mode": {
    "name": "ipython",
    "version": 3
   },
   "file_extension": ".py",
   "mimetype": "text/x-python",
   "name": "python",
   "nbconvert_exporter": "python",
   "pygments_lexer": "ipython3",
   "version": "3.8.8"
  },
  "orig_nbformat": 4,
  "vscode": {
   "interpreter": {
    "hash": "6c8cf18e8b2eff371b76e351ed7fc879961be58abee7a7213b732cee5e114a72"
   }
  }
 },
 "nbformat": 4,
 "nbformat_minor": 2
}
