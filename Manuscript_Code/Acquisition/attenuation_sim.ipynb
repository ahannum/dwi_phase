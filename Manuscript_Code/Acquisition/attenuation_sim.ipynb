{
 "cells": [
  {
   "cell_type": "code",
   "execution_count": 7,
   "metadata": {},
   "outputs": [
    {
     "data": {
      "text/plain": [
       "40.0"
      ]
     },
     "execution_count": 7,
     "metadata": {},
     "output_type": "execute_result"
    }
   ],
   "source": [
    "20/0.5"
   ]
  },
  {
   "cell_type": "code",
   "execution_count": 7,
   "metadata": {},
   "outputs": [
    {
     "data": {
      "image/png": "[encoded data removed]",
      "text/plain": [
       "<Figure size 432x288 with 1 Axes>"
      ]
     },
     "metadata": {
      "needs_background": "light"
     },
     "output_type": "display_data"
    },
    {
     "name": "stdout",
     "output_type": "stream",
     "text": [
      "9.966301793852788\n",
      "Phase Distribution = 0.02 radians, 1.19 degrees\n",
      "Attenuation from phase distribution is: 0.9971430498867513\n"
     ]
    },
    {
     "data": {
      "image/png": "[encoded data removed]",
      "text/plain": [
       "<Figure size 432x288 with 1 Axes>"
      ]
     },
     "metadata": {
      "needs_background": "light"
     },
     "output_type": "display_data"
    },
    {
     "name": "stdout",
     "output_type": "stream",
     "text": [
      "5.991226987311129\n",
      "Phase Distribution = 0.03 radians, 1.93 degrees\n",
      "Attenuation from phase distribution is: 0.9925776073433067\n"
     ]
    },
    {
     "data": {
      "image/png": "[encoded data removed]",
      "text/plain": [
       "<Figure size 432x288 with 1 Axes>"
      ]
     },
     "metadata": {
      "needs_background": "light"
     },
     "output_type": "display_data"
    },
    {
     "name": "stdout",
     "output_type": "stream",
     "text": [
      "3.990457803878533\n",
      "Phase Distribution = 0.05 radians, 2.72 degrees\n",
      "Attenuation from phase distribution is: 0.9851931551807981\n"
     ]
    }
   ],
   "source": [
    "import numpy as np\n",
    "import matplotlib.pyplot as plt\n",
    "\n",
    "# Set the mean and standard deviation of the normal distribution\n",
    "mean = 0\n",
    "std_dev = 1\n",
    "\n",
    "# Simulate bulk displacement\n",
    "displacement_angle = 0\n",
    "\n",
    "# Set diffusion strength (adjust as needed)\n",
    "diffusion_strength = 0.0\n",
    "\n",
    "# Capture 8 to 20 and then 2 SNR values for cardiac \n",
    "# Connect first figure and then colors couple sanity checks to do what you think it should do \n",
    "for magnitude_amplitude in [10,6,4]:\n",
    "    signal_all = []\n",
    "    angles = []\n",
    "    for _ in range(1000):\n",
    "        # Generate complex random noise\n",
    "        num = 1000\n",
    "        real_part = np.random.normal(mean, std_dev, size=num)\n",
    "        imaginary_part = np.random.normal(mean, std_dev, size=num)\n",
    "        \n",
    "        # Combine real and imaginary parts to create complex numbers\n",
    "        complex_noise = real_part + 1j * imaginary_part\n",
    "        \n",
    "        # Define Magnitude and Phase with bulk displacement\n",
    "        phase = np.zeros((num))\n",
    "        signal_with_displacement = magnitude_amplitude * np.ones((num)) * np.exp(1j * (phase + displacement_angle)) + complex_noise \n",
    "        \n",
    "        # Add diffusion noise\n",
    "        #diffusion_noise = np.random.normal(mean, diffusion_strength, size=100)\n",
    "        #signal_with_diffusion = signal_with_displacement + diffusion_noise\n",
    "        signal = signal_with_displacement\n",
    "        # Calculate magnitude and angle after displacement and diffusion\n",
    "        final_magnitude = np.abs(np.sum(signal) / num)\n",
    "        final_angle = np.angle(np.mean(np.exp(1j * np.angle(signal))))\n",
    "\n",
    "        # Plot the magnitude vector after displacement and diffusion\n",
    "        plt.quiver(0, 0, final_magnitude * np.cos(final_angle), final_magnitude * np.sin(final_angle),\n",
    "                angles='xy', scale_units='xy', scale=1, color='b', alpha=0.5)\n",
    "\n",
    "        angles.append(final_angle)\n",
    "        signal_all.append(signal)\n",
    "\n",
    "    plt.title('Relative Signal = {:.2f}'.format(magnitude_amplitude))\n",
    "\n",
    "    plt.xlim([-1.2, 1.2])\n",
    "    plt.ylim([-1, 1])\n",
    "    plt.grid(True)\n",
    "    plt.show()\n",
    "    print(abs(np.mean(np.array(signal)))/std_dev)\n",
    "    all_phase_angles = np.array(angles)\n",
    "    difference = np.min(all_phase_angles)\n",
    "    difference = np.max(all_phase_angles) - np.min(all_phase_angles)\n",
    "    print('Phase Distribution = {:.2f} radians, {:.2f} degrees'.format(difference,np.degrees(difference)))\n",
    "\n",
    "    print('Attenuation from phase distribution is:', (abs(np.sinc((difference) *2*2/2))))\n",
    "\n",
    "\n"
   ]
  },
  {
   "cell_type": "code",
   "execution_count": 11,
   "metadata": {},
   "outputs": [
    {
     "data": {
      "text/plain": [
       "-0.03183878581951012"
      ]
     },
     "execution_count": 11,
     "metadata": {},
     "output_type": "execute_result"
    }
   ],
   "source": []
  },
  {
   "cell_type": "code",
   "execution_count": 8,
   "metadata": {},
   "outputs": [
    {
     "ename": "NameError",
     "evalue": "name 'mag_m0' is not defined",
     "output_type": "error",
     "traceback": [
      "\u001b[0;31m---------------------------------------------------------------------------\u001b[0m",
      "\u001b[0;31mNameError\u001b[0m                                 Traceback (most recent call last)",
      "\u001b[0;32m<ipython-input-8-18393e3e311f>\u001b[0m in \u001b[0;36m<module>\u001b[0;34m\u001b[0m\n\u001b[0;32m----> 1\u001b[0;31m \u001b[0mnp\u001b[0m\u001b[0;34m.\u001b[0m\u001b[0mnanmean\u001b[0m\u001b[0;34m(\u001b[0m\u001b[0mmag_m0\u001b[0m\u001b[0;34m)\u001b[0m\u001b[0;34m\u001b[0m\u001b[0;34m\u001b[0m\u001b[0m\n\u001b[0m",
      "\u001b[0;31mNameError\u001b[0m: name 'mag_m0' is not defined"
     ]
    }
   ],
   "source": [
    "np.nanmean(mag"
   ]
  },
  {
   "cell_type": "code",
   "execution_count": null,
   "metadata": {},
   "outputs": [],
   "source": []
  }
 ],
 "metadata": {
  "kernelspec": {
   "display_name": "Python 3.8.8 ('base')",
   "language": "python",
   "name": "python3"
  },
  "language_info": {
   "codemirror_mode": {
    "name": "ipython",
    "version": 3
   },
   "file_extension": ".py",
   "mimetype": "text/x-python",
   "name": "python",
   "nbconvert_exporter": "python",
   "pygments_lexer": "ipython3",
   "version": "3.8.8"
  },
  "orig_nbformat": 4,
  "vscode": {
   "interpreter": {
    "hash": "6c8cf18e8b2eff371b76e351ed7fc879961be58abee7a7213b732cee5e114a72"
   }
  }
 },
 "nbformat": 4,
 "nbformat_minor": 2
}
