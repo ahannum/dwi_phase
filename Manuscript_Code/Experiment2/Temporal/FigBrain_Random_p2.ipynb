{
 "cells": [
  {
   "cell_type": "code",
   "execution_count": 1,
   "metadata": {},
   "outputs": [],
   "source": [
    "from matplotlib import pyplot as plt\n",
    "import numpy as np\n",
    "import math\n",
    "import os\n",
    "import numpy as np\n",
    "import sigpy as sp\n",
    "import sigpy.plot as pl\n",
    "from cmcrameri import cm\n",
    "\n",
    "from dipy.segment.mask import median_otsu\n",
    "from dipy.io.image import load_nifti, save_nifti\n",
    "from dipy.io.gradients import read_bvals_bvecs\n",
    "import numpy as np\n",
    "import nrrd\n",
    "import scikit_posthocs as sp\n",
    "\n",
    "import sys\n",
    "sys.path.append(\"/home/ahannum/Documents/Phase/cDTI_python\")\n",
    "from mystic_mrpy.Data_Import.Diffusion   import *\n",
    "from mystic_mrpy.Data_Sorting.Diffusion  import *\n",
    "from mystic_mrpy.Diffusion.DWI  import *\n",
    "from mystic_mrpy.Diffusion.Gibbs         import *\n",
    "from mystic_mrpy.Diffusion.Registration  import *\n",
    "from mystic_mrpy.Diffusion.Rejection     import *\n",
    "from mystic_mrpy.Diffusion.Respiratory   import *\n",
    "from mystic_mrpy.Diffusion.Averaging     import *\n",
    "from mystic_mrpy.Diffusion.Denoising     import *\n",
    "from mystic_mrpy.Diffusion.Interpolation import *\n",
    "from mystic_mrpy.Diffusion.Segmentation_Matrix_DTI import *\n",
    "from mystic_mrpy.Diffusion.DTI import *\n",
    "from mystic_mrpy.Diffusion.cDTI import *\n",
    "import random\n",
    "import numpy as np\n",
    "import matplotlib.pyplot as plt\n",
    "from scipy.io import savemat"
   ]
  },
  {
   "cell_type": "code",
   "execution_count": 12,
   "metadata": {},
   "outputs": [
    {
     "name": "stdout",
     "output_type": "stream",
     "text": [
      "1 2 3 4 5 7 8 9 10 11 "
     ]
    }
   ],
   "source": [
    "# Load in Mask & Magnitude image\n",
    "volunteers=[1,2,3,4,5,7,8,9,10,11]\n",
    "M0_mask = []\n",
    "M1_mask = []\n",
    "M2_mask = []\n",
    "\n",
    "ci_m0=np.zeros((2,10,6,4,1000))\n",
    "ci_m1=np.zeros((2,10,6,4,1000))\n",
    "ci_m2=np.zeros((2,10,6,4,1000))\n",
    "\n",
    "\n",
    "\n",
    "for vv in range(10):\n",
    "    volunteer = str(volunteers[vv])\n",
    "    print(volunteer, end = ' ')\n",
    "    inpath = '/home/ahannum/Documents/Phase/Data/V00' + volunteer \n",
    "    name = inpath.split('/')\n",
    "    namejoin = '/'.join(name[:-1])\n",
    "\n",
    "    num = 0\n",
    "    for num in range(3):\n",
    "        mask_end   = [_ for _ in os.listdir(inpath) if _.endswith('new.nrrd')]\n",
    "        mask_end.sort()\n",
    "        mask_end,header =  nrrd.read(os.path.join(inpath, mask_end[num]))\n",
    "        mask = mask_end\n",
    "        mask = mask.astype('float')\n",
    "        mask[mask==0] = np.nan\n",
    "        if num ==0:\n",
    "            M0_mask.append(mask)\n",
    "        if num ==1:\n",
    "            M1_mask.append(mask)\n",
    "        if num ==2:\n",
    "            M2_mask.append(mask)\n",
    "\n",
    "\n",
    "    savename = os.path.join(inpath,'M0_diff_boostrap.npy')\n",
    "    M0_diff = np.load(savename)\n",
    "\n",
    "    savename = os.path.join(inpath,'M1_diff_boostrap.npy')\n",
    "    M1_diff = np.load(savename)\n",
    "\n",
    "    savename = os.path.join(inpath,'M2_diff_boostrap.npy')\n",
    "    M2_diff = np.load(savename)\n",
    "\n",
    "    for dd in range(4):\n",
    "        for sl in range(6):\n",
    "            for td in range(1000):\n",
    "                ###############################################################################################\n",
    "                im = (M0_diff[:,:,sl,dd,td,:]) * M0_mask[vv][:,:,sl][:,:,np.newaxis]\n",
    "                test = im.reshape(128*128*5)\n",
    "                d=test[np.logical_not(np.isnan(test))]\n",
    "\n",
    "                bound= round(len(np.sort(d))*0.025)\n",
    "                ci_m0[0,vv,sl,dd,td] = np.sort(d)[bound]\n",
    "                ci_m0[1,vv,sl,dd,td] = np.sort(d)[len(d)-bound]\n",
    "\n",
    "                im = (M1_diff[:,:,sl,dd,td,:]) * M1_mask[vv][:,:,sl][:,:,np.newaxis]\n",
    "                test = im.reshape(128*128*5)\n",
    "                d=test[np.logical_not(np.isnan(test))]\n",
    "\n",
    "\n",
    "                bound= round(len(np.sort(d))*0.025)\n",
    "                ci_m1[0,vv,sl,dd,td] = np.sort(d)[bound]\n",
    "                ci_m1[1,vv,sl,dd,td] = np.sort(d)[len(d)-bound]\n",
    "\n",
    "                im = (M2_diff[:,:,sl,dd,td,:]) * M2_mask[vv][:,:,sl][:,:,np.newaxis]\n",
    "                test = im.reshape(128*128*5)\n",
    "                d=test[np.logical_not(np.isnan(test))]\n",
    "\n",
    "                bound= round(len(np.sort(d))*0.025)\n",
    "                ci_m2[0,vv,sl,dd,td] = np.sort(d)[bound]\n",
    "                ci_m2[1,vv,sl,dd,td] = np.sort(d)[len(d)-bound]\n",
    "\n",
    "            \n",
    "\n",
    "\n"
   ]
  },
  {
   "cell_type": "code",
   "execution_count": 14,
   "metadata": {},
   "outputs": [],
   "source": [
    "ci_all = np.stack((ci_m0,ci_m1,ci_m2),axis = -1)\n",
    "np.save('/home/ahannum/Documents/Phase/Data/ci_all.npy',ci_all)"
   ]
  },
  {
   "cell_type": "code",
   "execution_count": 5,
   "metadata": {},
   "outputs": [
    {
     "data": {
      "text/plain": [
       "dtype('float64')"
      ]
     },
     "execution_count": 5,
     "metadata": {},
     "output_type": "execute_result"
    }
   ],
   "source": [
    "ci_all = np.load('/home/ahannum/Documents/Phase/Data/ci_all.npy')\n",
    "ci_all.dtype"
   ]
  },
  {
   "cell_type": "code",
   "execution_count": null,
   "metadata": {},
   "outputs": [],
   "source": [
    "fig.savefig('Exp1brain_dir{}_Ci_lineplot_3sl.png'.format(dd))"
   ]
  },
  {
   "cell_type": "code",
   "execution_count": 14,
   "metadata": {},
   "outputs": [],
   "source": [
    "med = np.nanmedian(ci_length[:,:,,:,:],axis = 1)"
   ]
  },
  {
   "cell_type": "code",
   "execution_count": 15,
   "metadata": {},
   "outputs": [
    {
     "data": {
      "text/plain": [
       "(3,)"
      ]
     },
     "execution_count": 15,
     "metadata": {},
     "output_type": "execute_result"
    }
   ],
   "source": [
    "med.shape"
   ]
  },
  {
   "cell_type": "code",
   "execution_count": null,
   "metadata": {},
   "outputs": [],
   "source": []
  }
 ],
 "metadata": {
  "kernelspec": {
   "display_name": "Python 3.9.5 64-bit",
   "language": "python",
   "name": "python3"
  },
  "language_info": {
   "codemirror_mode": {
    "name": "ipython",
    "version": 3
   },
   "file_extension": ".py",
   "mimetype": "text/x-python",
   "name": "python",
   "nbconvert_exporter": "python",
   "pygments_lexer": "ipython3",
   "version": "3.9.5"
  },
  "orig_nbformat": 4,
  "vscode": {
   "interpreter": {
    "hash": "f22a20af907fde35ff19e1e892fdb271353fb19b11c7ebd774491472e685293c"
   }
  }
 },
 "nbformat": 4,
 "nbformat_minor": 2
}
