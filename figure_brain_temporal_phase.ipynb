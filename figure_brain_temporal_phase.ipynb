{
 "cells": [
  {
   "cell_type": "markdown",
   "metadata": {},
   "source": [
    "# Figure 2: Experiment 1, Neuroimaging Temporal Phase ($\\sigma_{\\phi}$),\n",
    "This notebook is used to recreate Figure 2, showing the temporal phase [$\\sigma_{\\phi}$] results for the neuroimaging data in Experiment 1. The data acquired has the following dimensions:\n",
    " 1. X = 128\n",
    " 2. Y = 100\n",
    " 3. Slices = 6\n",
    " 4. Diffusion directions [b=0 + $G_x$, $G_y$, $G_z$] = 4\n",
    " 5. Repetitions = 5\n",
    " 6. Trigger Delays = 8\n",
    "\n",
    "A user can selcet the volunteer, slice, and diffusion direction, and trigger-delay to then compute the temporal phase for a given grouping of images (Fig. 2A). The user can also select the slice and diffusion direction to plot the mean temporal phase variation across the 8 different trigger delay times (Fig. 2B). These are the same steps that are used to create Supplementary Figures 1 & 2. \n",
    "\n",
    "The last portion of the code shows heatmaps so a user can test signifiance between different different motion compensation levels for different trigger-delay times. "
   ]
  },
  {
   "cell_type": "code",
   "execution_count": null,
   "metadata": {},
   "outputs": [],
   "source": [
    "# Import utilities\n"
   ]
  },
  {
   "cell_type": "code",
   "execution_count": null,
   "metadata": {},
   "outputs": [],
   "source": []
  }
 ],
 "metadata": {
  "kernelspec": {
   "display_name": "Python 3.8.8 ('base')",
   "language": "python",
   "name": "python3"
  },
  "language_info": {
   "name": "python",
   "version": "3.8.8"
  },
  "orig_nbformat": 4,
  "vscode": {
   "interpreter": {
    "hash": "6c8cf18e8b2eff371b76e351ed7fc879961be58abee7a7213b732cee5e114a72"
   }
  }
 },
 "nbformat": 4,
 "nbformat_minor": 2
}
